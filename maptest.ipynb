{
 "cells": [
  {
   "cell_type": "code",
   "execution_count": 22,
   "metadata": {},
   "outputs": [
    {
     "name": "stdout",
     "output_type": "stream",
     "text": [
      "pandas             0.23.0   \r\n"
     ]
    }
   ],
   "source": [
    "! pip list | grep pandas"
   ]
  },
  {
   "cell_type": "code",
   "execution_count": 20,
   "metadata": {},
   "outputs": [
    {
     "data": {
      "text/html": [
       "<script>requirejs.config({paths: { 'plotly': ['https://cdn.plot.ly/plotly-latest.min']},});if(!window.Plotly) {{require(['plotly'],function(plotly) {window.Plotly=plotly;});}}</script>"
      ],
      "text/vnd.plotly.v1+html": [
       "<script>requirejs.config({paths: { 'plotly': ['https://cdn.plot.ly/plotly-latest.min']},});if(!window.Plotly) {{require(['plotly'],function(plotly) {window.Plotly=plotly;});}}</script>"
      ]
     },
     "metadata": {},
     "output_type": "display_data"
    },
    {
     "name": "stdout",
     "output_type": "stream",
     "text": [
      "High five! You successfully sent some data to your account on plotly. View your plot in your browser at https://plot.ly/~itjen/0 or inside your plot.ly account where it is named 'test'\n"
     ]
    },
    {
     "data": {
      "text/html": [
       "<iframe id=\"igraph\" scrolling=\"no\" style=\"border:none;\" seamless=\"seamless\" src=\"https://plot.ly/~itjen/0.embed\" height=\"525px\" width=\"100%\"></iframe>"
      ],
      "text/plain": [
       "<plotly.tools.PlotlyDisplay object>"
      ]
     },
     "execution_count": 20,
     "metadata": {},
     "output_type": "execute_result"
    }
   ],
   "source": [
    "import plotly.plotly as py\n",
    "import plotly.graph_objs as go\n",
    "\n",
    "import pandas as pd\n",
    "\n",
    "mapbox_access_token = 'pk.eyJ1IjoiaXRqZW4iLCJhIjoiY2poc3NhMnZmMDY5MDNwcnd6NThwdWFqcSJ9.zHur2o7VnAZEuRfSXDq3pA'\n",
    "\n",
    "df = pd.read_csv('https://raw.githubusercontent.com/plotly/datasets/master/Nuclear%20Waste%20Sites%20on%20American%20Campuses.csv')\n",
    "site_lat = df.lat\n",
    "site_lon = df.lon\n",
    "locations_name = df.text\n",
    "\n",
    "plotly.offline.init_notebook_mode(connected=True)\n",
    "\n",
    "data = [\n",
    "    go.Scattermapbox(\n",
    "        lat=site_lat,\n",
    "        lon=site_lon,\n",
    "        mode='markers',\n",
    "        marker=dict(\n",
    "            size=17,\n",
    "            color='rgb(255, 0, 0)',\n",
    "            opacity=0.7\n",
    "        ),\n",
    "        text=locations_name,\n",
    "        hoverinfo='text'\n",
    "    ),\n",
    "    go.Scattermapbox(\n",
    "        lat=site_lat,\n",
    "        lon=site_lon,\n",
    "        mode='markers',\n",
    "        marker=dict(\n",
    "            size=8,\n",
    "            color='rgb(242, 177, 172)',\n",
    "            opacity=0.7\n",
    "        ),\n",
    "        hoverinfo='none'\n",
    "    )]\n",
    "\n",
    "\n",
    "layout = go.Layout(\n",
    "    title='Nuclear Waste Sites on Campus',\n",
    "    autosize=True,\n",
    "    hovermode='closest',\n",
    "    showlegend=False,\n",
    "    mapbox=dict(\n",
    "        accesstoken=mapbox_access_token,\n",
    "        bearing=0,\n",
    "        center=dict(\n",
    "            lat=38,\n",
    "            lon=-94\n",
    "        ),\n",
    "        pitch=0,\n",
    "        zoom=3,\n",
    "        style='light'\n",
    "    ),\n",
    ")\n",
    "\n",
    "fig = dict(data=data, layout=layout)\n",
    "\n",
    "py.iplot(fig, filename=\"test\")"
   ]
  },
  {
   "cell_type": "code",
   "execution_count": 23,
   "metadata": {},
   "outputs": [
    {
     "data": {
      "text/html": [
       "<script>requirejs.config({paths: { 'plotly': ['https://cdn.plot.ly/plotly-latest.min']},});if(!window.Plotly) {{require(['plotly'],function(plotly) {window.Plotly=plotly;});}}</script>"
      ],
      "text/vnd.plotly.v1+html": [
       "<script>requirejs.config({paths: { 'plotly': ['https://cdn.plot.ly/plotly-latest.min']},});if(!window.Plotly) {{require(['plotly'],function(plotly) {window.Plotly=plotly;});}}</script>"
      ]
     },
     "metadata": {},
     "output_type": "display_data"
    },
    {
     "data": {
      "application/vnd.plotly.v1+json": {
       "data": [
        {
         "hoverinfo": "text",
         "lat": [
          35.888827299999996,
          39.503487299999996,
          44.6208218,
          40.641371,
          39.361063,
          39.9573541,
          41.672189,
          40.746102,
          35.8997249,
          42.841147,
          41.8881016,
          40.5376109,
          42.1542011,
          34.214928,
          38.6870307,
          38.6926197,
          37.872571,
          39.382248499999996,
          40.7087363,
          40.577768,
          41.7986843,
          40.4702797,
          43.2209056,
          36.0427296,
          41.4007898,
          42.9918367,
          41.7924797,
          42.540470299999996,
          40.9696277
         ],
         "lon": [
          -106.3050223,
          -84.7438586,
          -123.1209165,
          -80.242936,
          -84.54075,
          -83.0114552,
          -83.568625,
          -74.0066415,
          -106.29012709999999,
          -78.83406,
          -84.0164792,
          -79.7820937,
          -72.4997776,
          -105.8793205,
          -90.16736159999999,
          -90.16229,
          -122.256179,
          -84.5471105,
          -74.1012813,
          -74.49656440000001,
          -87.60693690000001,
          -74.47625409999999,
          -78.9737308,
          -84.2066525,
          -73.072232,
          -78.92010079999999,
          -87.60103609999999,
          -70.8888085,
          -74.2707793
         ],
         "marker": {
          "color": "rgb(255, 0, 0)",
          "opacity": 0.7,
          "size": 17
         },
         "mode": "markers",
         "text": [
          "Acid/Pueblo Canyon",
          "Alba Craft Shop",
          "\"Albany, Oregon, FUSRAP Site\"",
          "Aliquippa Forge",
          "Associated Aircraft Tool and Manufacturing Co.",
          "B & T Metals",
          "Baker Brothers",
          "Baker and Williams Warehouses",
          "\"Bayo Canyon, New Mexico, FUSRAP Site\"",
          "Bliss and Laughlin Steel",
          "Bridgeport Brass Co.",
          "C.H. Schnorr",
          "Chapman Valve",
          "\"Chupadera Mesa, New Mexico, FUSRAP Site\"",
          "\"Dow Chemical Co., Madison Site\"",
          "General Steel Industries",
          "\"Gilman Hall, University of California at Berkeley\"",
          "Hamilton OH Site",
          "Jersey City FUSRAP Site",
          "Middlesex North Site",
          "National Guard Armory",
          "\"New Brunswick, NJ, FUSRAP Site\"",
          "Niagara Falls Vicinity Properties",
          "\"Oak Ridge, TN, Warehouse Site\"",
          "Seymour Specialty Wire",
          "Tonawanda North FUSRAP Site",
          "University of Chicago Metallurgical Laboratory",
          "Ventron Corporation",
          "Wayne FUSRAP Site"
         ],
         "type": "scattermapbox"
        },
        {
         "hoverinfo": "none",
         "lat": [
          35.888827299999996,
          39.503487299999996,
          44.6208218,
          40.641371,
          39.361063,
          39.9573541,
          41.672189,
          40.746102,
          35.8997249,
          42.841147,
          41.8881016,
          40.5376109,
          42.1542011,
          34.214928,
          38.6870307,
          38.6926197,
          37.872571,
          39.382248499999996,
          40.7087363,
          40.577768,
          41.7986843,
          40.4702797,
          43.2209056,
          36.0427296,
          41.4007898,
          42.9918367,
          41.7924797,
          42.540470299999996,
          40.9696277
         ],
         "lon": [
          -106.3050223,
          -84.7438586,
          -123.1209165,
          -80.242936,
          -84.54075,
          -83.0114552,
          -83.568625,
          -74.0066415,
          -106.29012709999999,
          -78.83406,
          -84.0164792,
          -79.7820937,
          -72.4997776,
          -105.8793205,
          -90.16736159999999,
          -90.16229,
          -122.256179,
          -84.5471105,
          -74.1012813,
          -74.49656440000001,
          -87.60693690000001,
          -74.47625409999999,
          -78.9737308,
          -84.2066525,
          -73.072232,
          -78.92010079999999,
          -87.60103609999999,
          -70.8888085,
          -74.2707793
         ],
         "marker": {
          "color": "rgb(242, 177, 172)",
          "opacity": 0.7,
          "size": 8
         },
         "mode": "markers",
         "type": "scattermapbox"
        }
       ],
       "layout": {
        "autosize": true,
        "hovermode": "closest",
        "mapbox": {
         "accesstoken": "pk.eyJ1IjoiaXRqZW4iLCJhIjoiY2poc3NhMnZmMDY5MDNwcnd6NThwdWFqcSJ9.zHur2o7VnAZEuRfSXDq3pA",
         "bearing": 0,
         "center": {
          "lat": 38,
          "lon": -94
         },
         "pitch": 0,
         "style": "light",
         "zoom": 3
        },
        "showlegend": false,
        "title": "Nuclear Waste Sites on Campus"
       }
      },
      "text/html": [
       "<div id=\"611bf98d-20f5-4288-9868-7a50a71fbcb3\" style=\"height: 525px; width: 100%;\" class=\"plotly-graph-div\"></div><script type=\"text/javascript\">require([\"plotly\"], function(Plotly) { window.PLOTLYENV=window.PLOTLYENV || {};window.PLOTLYENV.BASE_URL=\"https://plot.ly\";Plotly.newPlot(\"611bf98d-20f5-4288-9868-7a50a71fbcb3\", [{\"type\": \"scattermapbox\", \"lat\": [35.888827299999996, 39.503487299999996, 44.6208218, 40.641371, 39.361063, 39.9573541, 41.672189, 40.746102, 35.8997249, 42.841147, 41.8881016, 40.5376109, 42.1542011, 34.214928, 38.6870307, 38.6926197, 37.872571, 39.382248499999996, 40.7087363, 40.577768, 41.7986843, 40.4702797, 43.2209056, 36.0427296, 41.4007898, 42.9918367, 41.7924797, 42.540470299999996, 40.9696277], \"lon\": [-106.3050223, -84.7438586, -123.1209165, -80.242936, -84.54075, -83.0114552, -83.568625, -74.0066415, -106.29012709999999, -78.83406, -84.0164792, -79.7820937, -72.4997776, -105.8793205, -90.16736159999999, -90.16229, -122.256179, -84.5471105, -74.1012813, -74.49656440000001, -87.60693690000001, -74.47625409999999, -78.9737308, -84.2066525, -73.072232, -78.92010079999999, -87.60103609999999, -70.8888085, -74.2707793], \"mode\": \"markers\", \"marker\": {\"size\": 17, \"color\": \"rgb(255, 0, 0)\", \"opacity\": 0.7}, \"text\": [\"Acid/Pueblo Canyon\", \"Alba Craft Shop\", \"\\\"Albany, Oregon, FUSRAP Site\\\"\", \"Aliquippa Forge\", \"Associated Aircraft Tool and Manufacturing Co.\", \"B & T Metals\", \"Baker Brothers\", \"Baker and Williams Warehouses\", \"\\\"Bayo Canyon, New Mexico, FUSRAP Site\\\"\", \"Bliss and Laughlin Steel\", \"Bridgeport Brass Co.\", \"C.H. Schnorr\", \"Chapman Valve\", \"\\\"Chupadera Mesa, New Mexico, FUSRAP Site\\\"\", \"\\\"Dow Chemical Co., Madison Site\\\"\", \"General Steel Industries\", \"\\\"Gilman Hall, University of California at Berkeley\\\"\", \"Hamilton OH Site\", \"Jersey City FUSRAP Site\", \"Middlesex North Site\", \"National Guard Armory\", \"\\\"New Brunswick, NJ, FUSRAP Site\\\"\", \"Niagara Falls Vicinity Properties\", \"\\\"Oak Ridge, TN, Warehouse Site\\\"\", \"Seymour Specialty Wire\", \"Tonawanda North FUSRAP Site\", \"University of Chicago Metallurgical Laboratory\", \"Ventron Corporation\", \"Wayne FUSRAP Site\"], \"hoverinfo\": \"text\"}, {\"type\": \"scattermapbox\", \"lat\": [35.888827299999996, 39.503487299999996, 44.6208218, 40.641371, 39.361063, 39.9573541, 41.672189, 40.746102, 35.8997249, 42.841147, 41.8881016, 40.5376109, 42.1542011, 34.214928, 38.6870307, 38.6926197, 37.872571, 39.382248499999996, 40.7087363, 40.577768, 41.7986843, 40.4702797, 43.2209056, 36.0427296, 41.4007898, 42.9918367, 41.7924797, 42.540470299999996, 40.9696277], \"lon\": [-106.3050223, -84.7438586, -123.1209165, -80.242936, -84.54075, -83.0114552, -83.568625, -74.0066415, -106.29012709999999, -78.83406, -84.0164792, -79.7820937, -72.4997776, -105.8793205, -90.16736159999999, -90.16229, -122.256179, -84.5471105, -74.1012813, -74.49656440000001, -87.60693690000001, -74.47625409999999, -78.9737308, -84.2066525, -73.072232, -78.92010079999999, -87.60103609999999, -70.8888085, -74.2707793], \"mode\": \"markers\", \"marker\": {\"size\": 8, \"color\": \"rgb(242, 177, 172)\", \"opacity\": 0.7}, \"hoverinfo\": \"none\"}], {\"title\": \"Nuclear Waste Sites on Campus\", \"autosize\": true, \"hovermode\": \"closest\", \"showlegend\": false, \"mapbox\": {\"accesstoken\": \"pk.eyJ1IjoiaXRqZW4iLCJhIjoiY2poc3NhMnZmMDY5MDNwcnd6NThwdWFqcSJ9.zHur2o7VnAZEuRfSXDq3pA\", \"bearing\": 0, \"center\": {\"lat\": 38, \"lon\": -94}, \"pitch\": 0, \"zoom\": 3, \"style\": \"light\"}}, {\"showLink\": true, \"linkText\": \"Export to plot.ly\"})});</script>"
      ],
      "text/vnd.plotly.v1+html": [
       "<div id=\"611bf98d-20f5-4288-9868-7a50a71fbcb3\" style=\"height: 525px; width: 100%;\" class=\"plotly-graph-div\"></div><script type=\"text/javascript\">require([\"plotly\"], function(Plotly) { window.PLOTLYENV=window.PLOTLYENV || {};window.PLOTLYENV.BASE_URL=\"https://plot.ly\";Plotly.newPlot(\"611bf98d-20f5-4288-9868-7a50a71fbcb3\", [{\"type\": \"scattermapbox\", \"lat\": [35.888827299999996, 39.503487299999996, 44.6208218, 40.641371, 39.361063, 39.9573541, 41.672189, 40.746102, 35.8997249, 42.841147, 41.8881016, 40.5376109, 42.1542011, 34.214928, 38.6870307, 38.6926197, 37.872571, 39.382248499999996, 40.7087363, 40.577768, 41.7986843, 40.4702797, 43.2209056, 36.0427296, 41.4007898, 42.9918367, 41.7924797, 42.540470299999996, 40.9696277], \"lon\": [-106.3050223, -84.7438586, -123.1209165, -80.242936, -84.54075, -83.0114552, -83.568625, -74.0066415, -106.29012709999999, -78.83406, -84.0164792, -79.7820937, -72.4997776, -105.8793205, -90.16736159999999, -90.16229, -122.256179, -84.5471105, -74.1012813, -74.49656440000001, -87.60693690000001, -74.47625409999999, -78.9737308, -84.2066525, -73.072232, -78.92010079999999, -87.60103609999999, -70.8888085, -74.2707793], \"mode\": \"markers\", \"marker\": {\"size\": 17, \"color\": \"rgb(255, 0, 0)\", \"opacity\": 0.7}, \"text\": [\"Acid/Pueblo Canyon\", \"Alba Craft Shop\", \"\\\"Albany, Oregon, FUSRAP Site\\\"\", \"Aliquippa Forge\", \"Associated Aircraft Tool and Manufacturing Co.\", \"B & T Metals\", \"Baker Brothers\", \"Baker and Williams Warehouses\", \"\\\"Bayo Canyon, New Mexico, FUSRAP Site\\\"\", \"Bliss and Laughlin Steel\", \"Bridgeport Brass Co.\", \"C.H. Schnorr\", \"Chapman Valve\", \"\\\"Chupadera Mesa, New Mexico, FUSRAP Site\\\"\", \"\\\"Dow Chemical Co., Madison Site\\\"\", \"General Steel Industries\", \"\\\"Gilman Hall, University of California at Berkeley\\\"\", \"Hamilton OH Site\", \"Jersey City FUSRAP Site\", \"Middlesex North Site\", \"National Guard Armory\", \"\\\"New Brunswick, NJ, FUSRAP Site\\\"\", \"Niagara Falls Vicinity Properties\", \"\\\"Oak Ridge, TN, Warehouse Site\\\"\", \"Seymour Specialty Wire\", \"Tonawanda North FUSRAP Site\", \"University of Chicago Metallurgical Laboratory\", \"Ventron Corporation\", \"Wayne FUSRAP Site\"], \"hoverinfo\": \"text\"}, {\"type\": \"scattermapbox\", \"lat\": [35.888827299999996, 39.503487299999996, 44.6208218, 40.641371, 39.361063, 39.9573541, 41.672189, 40.746102, 35.8997249, 42.841147, 41.8881016, 40.5376109, 42.1542011, 34.214928, 38.6870307, 38.6926197, 37.872571, 39.382248499999996, 40.7087363, 40.577768, 41.7986843, 40.4702797, 43.2209056, 36.0427296, 41.4007898, 42.9918367, 41.7924797, 42.540470299999996, 40.9696277], \"lon\": [-106.3050223, -84.7438586, -123.1209165, -80.242936, -84.54075, -83.0114552, -83.568625, -74.0066415, -106.29012709999999, -78.83406, -84.0164792, -79.7820937, -72.4997776, -105.8793205, -90.16736159999999, -90.16229, -122.256179, -84.5471105, -74.1012813, -74.49656440000001, -87.60693690000001, -74.47625409999999, -78.9737308, -84.2066525, -73.072232, -78.92010079999999, -87.60103609999999, -70.8888085, -74.2707793], \"mode\": \"markers\", \"marker\": {\"size\": 8, \"color\": \"rgb(242, 177, 172)\", \"opacity\": 0.7}, \"hoverinfo\": \"none\"}], {\"title\": \"Nuclear Waste Sites on Campus\", \"autosize\": true, \"hovermode\": \"closest\", \"showlegend\": false, \"mapbox\": {\"accesstoken\": \"pk.eyJ1IjoiaXRqZW4iLCJhIjoiY2poc3NhMnZmMDY5MDNwcnd6NThwdWFqcSJ9.zHur2o7VnAZEuRfSXDq3pA\", \"bearing\": 0, \"center\": {\"lat\": 38, \"lon\": -94}, \"pitch\": 0, \"zoom\": 3, \"style\": \"light\"}}, {\"showLink\": true, \"linkText\": \"Export to plot.ly\"})});</script>"
      ]
     },
     "metadata": {},
     "output_type": "display_data"
    }
   ],
   "source": [
    "import plotly\n",
    "\n",
    "plotly.offline.init_notebook_mode(connected=True)\n",
    "\n",
    "plotly.offline.iplot(fig)"
   ]
  },
  {
   "cell_type": "code",
   "execution_count": 21,
   "metadata": {},
   "outputs": [],
   "source": [
    "plotly.tools.set_credentials_file(username='narwis', api_key='3LG9F09NVPAZGSzvLXTG')"
   ]
  },
  {
   "cell_type": "code",
   "execution_count": 25,
   "metadata": {},
   "outputs": [
    {
     "data": {
      "application/vnd.plotly.v1+json": {
       "data": [
        {
         "x": [
          1,
          2,
          3
         ],
         "y": [
          3,
          1,
          6
         ]
        }
       ],
       "layout": {}
      },
      "text/html": [
       "<div id=\"0b41034b-de96-4ad3-af27-f5dc6b640c3c\" style=\"height: 525px; width: 100%;\" class=\"plotly-graph-div\"></div><script type=\"text/javascript\">require([\"plotly\"], function(Plotly) { window.PLOTLYENV=window.PLOTLYENV || {};window.PLOTLYENV.BASE_URL=\"https://plot.ly\";Plotly.newPlot(\"0b41034b-de96-4ad3-af27-f5dc6b640c3c\", [{\"x\": [1, 2, 3], \"y\": [3, 1, 6]}], {}, {\"showLink\": true, \"linkText\": \"Export to plot.ly\"})});</script>"
      ],
      "text/vnd.plotly.v1+html": [
       "<div id=\"0b41034b-de96-4ad3-af27-f5dc6b640c3c\" style=\"height: 525px; width: 100%;\" class=\"plotly-graph-div\"></div><script type=\"text/javascript\">require([\"plotly\"], function(Plotly) { window.PLOTLYENV=window.PLOTLYENV || {};window.PLOTLYENV.BASE_URL=\"https://plot.ly\";Plotly.newPlot(\"0b41034b-de96-4ad3-af27-f5dc6b640c3c\", [{\"x\": [1, 2, 3], \"y\": [3, 1, 6]}], {}, {\"showLink\": true, \"linkText\": \"Export to plot.ly\"})});</script>"
      ]
     },
     "metadata": {},
     "output_type": "display_data"
    }
   ],
   "source": [
    "plotly.offline.iplot([{\"x\": [1, 2, 3], \"y\": [3, 1, 6]}])"
   ]
  }
 ],
 "metadata": {
  "kernelspec": {
   "display_name": "Python 3",
   "language": "python",
   "name": "python3"
  },
  "language_info": {
   "codemirror_mode": {
    "name": "ipython",
    "version": 3
   },
   "file_extension": ".py",
   "mimetype": "text/x-python",
   "name": "python",
   "nbconvert_exporter": "python",
   "pygments_lexer": "ipython3",
   "version": "3.6.5"
  }
 },
 "nbformat": 4,
 "nbformat_minor": 2
}
