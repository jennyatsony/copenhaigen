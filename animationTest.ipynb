{
 "cells": [
  {
   "cell_type": "code",
   "execution_count": 16,
   "metadata": {},
   "outputs": [
    {
     "data": {
      "text/html": [
       "<script>requirejs.config({paths: { 'plotly': ['https://cdn.plot.ly/plotly-latest.min']},});if(!window.Plotly) {{require(['plotly'],function(plotly) {window.Plotly=plotly;});}}</script>"
      ],
      "text/vnd.plotly.v1+html": [
       "<script>requirejs.config({paths: { 'plotly': ['https://cdn.plot.ly/plotly-latest.min']},});if(!window.Plotly) {{require(['plotly'],function(plotly) {window.Plotly=plotly;});}}</script>"
      ]
     },
     "metadata": {},
     "output_type": "display_data"
    }
   ],
   "source": [
    "from plotly.offline import init_notebook_mode, iplot\n",
    "from IPython.display import display, HTML\n",
    "\n",
    "init_notebook_mode(connected=True)\n",
    "\n",
    "sliders_stuff = {\n",
    "    'steps': [\n",
    "        {\n",
    "            'args': [['Una']],\n",
    "            'method': 'animate',\n",
    "            'label': 'Una'\n",
    "        },\n",
    "        {\n",
    "            'args': [['Dos']],\n",
    "            'method': 'animate',\n",
    "            'label': 'Dos'\n",
    "        },\n",
    "        {\n",
    "            'args': [['Tres']],\n",
    "            'method': 'animate',\n",
    "            'label': 'Tres'\n",
    "        },\n",
    "    ]\n",
    "}\n",
    "\n",
    "figure = {'data': [{'x': [0, 1], 'y': [0, 1]}],\n",
    "          'layout': {'xaxis': {'range': [0, 5], 'autorange': False},\n",
    "                     'yaxis': {'range': [0, 5], 'autorange': False},\n",
    "                     'title': 'Test',\n",
    "                     'sliders': [sliders_stuff]\n",
    "                    },\n",
    "          'frames': [{'data': [{'x': [1, 2], 'y': [1, 2]}], 'name': 'Una'},\n",
    "                     {'data': [{'x': [1, 4], 'y': [1, 4]}], 'name': 'Dos'},\n",
    "                     {'data': [{'x': [3, 4], 'y': [3, 4]}], 'name': 'Tres'}]}\n"
   ]
  },
  {
   "cell_type": "code",
   "execution_count": 17,
   "metadata": {},
   "outputs": [
    {
     "data": {
      "application/vnd.plotly.v1+json": {
       "data": [
        {
         "x": [
          0,
          1
         ],
         "y": [
          0,
          1
         ]
        }
       ],
       "frames": [
        {
         "data": [
          {
           "x": [
            1,
            2
           ],
           "y": [
            1,
            2
           ]
          }
         ],
         "name": "Una"
        },
        {
         "data": [
          {
           "x": [
            1,
            4
           ],
           "y": [
            1,
            4
           ]
          }
         ],
         "name": "Dos"
        },
        {
         "data": [
          {
           "x": [
            3,
            4
           ],
           "y": [
            3,
            4
           ]
          }
         ],
         "name": "Tres"
        }
       ],
       "layout": {
        "sliders": [
         {
          "steps": [
           {
            "args": [
             [
              "Una"
             ]
            ],
            "label": "Una",
            "method": "animate"
           },
           {
            "args": [
             [
              "Dos"
             ]
            ],
            "label": "Dos",
            "method": "animate"
           },
           {
            "args": [
             [
              "Tres"
             ]
            ],
            "label": "Tres",
            "method": "animate"
           }
          ]
         }
        ],
        "title": "Test",
        "xaxis": {
         "autorange": false,
         "range": [
          0,
          5
         ]
        },
        "yaxis": {
         "autorange": false,
         "range": [
          0,
          5
         ]
        }
       }
      },
      "text/html": [
       "<div id=\"4d678f20-a636-4e66-8adb-3a19f35af906\" style=\"height: 525px; width: 100%;\" class=\"plotly-graph-div\"></div><script type=\"text/javascript\">require([\"plotly\"], function(Plotly) { window.PLOTLYENV=window.PLOTLYENV || {};window.PLOTLYENV.BASE_URL=\"https://plot.ly\";\n",
       "        Plotly.plot(\n",
       "            '4d678f20-a636-4e66-8adb-3a19f35af906',\n",
       "            [{\"x\": [0, 1], \"y\": [0, 1]}],\n",
       "            {\"xaxis\": {\"range\": [0, 5], \"autorange\": false}, \"yaxis\": {\"range\": [0, 5], \"autorange\": false}, \"title\": \"Test\", \"sliders\": [{\"steps\": [{\"args\": [[\"Una\"]], \"method\": \"animate\", \"label\": \"Una\"}, {\"args\": [[\"Dos\"]], \"method\": \"animate\", \"label\": \"Dos\"}, {\"args\": [[\"Tres\"]], \"method\": \"animate\", \"label\": \"Tres\"}]}]},\n",
       "            {\"showLink\": true, \"linkText\": \"Export to plot.ly\"}\n",
       "        ).then(function () {return Plotly.addFrames('4d678f20-a636-4e66-8adb-3a19f35af906',[{\"data\": [{\"x\": [1, 2], \"y\": [1, 2]}], \"name\": \"Una\"}, {\"data\": [{\"x\": [1, 4], \"y\": [1, 4]}], \"name\": \"Dos\"}, {\"data\": [{\"x\": [3, 4], \"y\": [3, 4]}], \"name\": \"Tres\"}]);}).then(function(){Plotly.animate('4d678f20-a636-4e66-8adb-3a19f35af906');})\n",
       "        });</script>"
      ],
      "text/vnd.plotly.v1+html": [
       "<div id=\"4d678f20-a636-4e66-8adb-3a19f35af906\" style=\"height: 525px; width: 100%;\" class=\"plotly-graph-div\"></div><script type=\"text/javascript\">require([\"plotly\"], function(Plotly) { window.PLOTLYENV=window.PLOTLYENV || {};window.PLOTLYENV.BASE_URL=\"https://plot.ly\";\n",
       "        Plotly.plot(\n",
       "            '4d678f20-a636-4e66-8adb-3a19f35af906',\n",
       "            [{\"x\": [0, 1], \"y\": [0, 1]}],\n",
       "            {\"xaxis\": {\"range\": [0, 5], \"autorange\": false}, \"yaxis\": {\"range\": [0, 5], \"autorange\": false}, \"title\": \"Test\", \"sliders\": [{\"steps\": [{\"args\": [[\"Una\"]], \"method\": \"animate\", \"label\": \"Una\"}, {\"args\": [[\"Dos\"]], \"method\": \"animate\", \"label\": \"Dos\"}, {\"args\": [[\"Tres\"]], \"method\": \"animate\", \"label\": \"Tres\"}]}]},\n",
       "            {\"showLink\": true, \"linkText\": \"Export to plot.ly\"}\n",
       "        ).then(function () {return Plotly.addFrames('4d678f20-a636-4e66-8adb-3a19f35af906',[{\"data\": [{\"x\": [1, 2], \"y\": [1, 2]}], \"name\": \"Una\"}, {\"data\": [{\"x\": [1, 4], \"y\": [1, 4]}], \"name\": \"Dos\"}, {\"data\": [{\"x\": [3, 4], \"y\": [3, 4]}], \"name\": \"Tres\"}]);}).then(function(){Plotly.animate('4d678f20-a636-4e66-8adb-3a19f35af906');})\n",
       "        });</script>"
      ]
     },
     "metadata": {},
     "output_type": "display_data"
    }
   ],
   "source": [
    "iplot(figure)"
   ]
  },
  {
   "cell_type": "code",
   "execution_count": null,
   "metadata": {},
   "outputs": [],
   "source": []
  }
 ],
 "metadata": {
  "kernelspec": {
   "display_name": "Python 3",
   "language": "python",
   "name": "python3"
  },
  "language_info": {
   "codemirror_mode": {
    "name": "ipython",
    "version": 3
   },
   "file_extension": ".py",
   "mimetype": "text/x-python",
   "name": "python",
   "nbconvert_exporter": "python",
   "pygments_lexer": "ipython3",
   "version": "3.6.5"
  }
 },
 "nbformat": 4,
 "nbformat_minor": 2
}
