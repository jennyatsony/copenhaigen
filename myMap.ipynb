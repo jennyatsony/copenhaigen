{
 "cells": [
  {
   "cell_type": "code",
   "execution_count": null,
   "metadata": {},
   "outputs": [],
   "source": [
    "! pip install plotly pandas"
   ]
  },
  {
   "cell_type": "code",
   "execution_count": 28,
   "metadata": {},
   "outputs": [
    {
     "data": {
      "text/html": [
       "<script>requirejs.config({paths: { 'plotly': ['https://cdn.plot.ly/plotly-latest.min']},});if(!window.Plotly) {{require(['plotly'],function(plotly) {window.Plotly=plotly;});}}</script>"
      ],
      "text/vnd.plotly.v1+html": [
       "<script>requirejs.config({paths: { 'plotly': ['https://cdn.plot.ly/plotly-latest.min']},});if(!window.Plotly) {{require(['plotly'],function(plotly) {window.Plotly=plotly;});}}</script>"
      ]
     },
     "metadata": {},
     "output_type": "display_data"
    }
   ],
   "source": [
    "import plotly.graph_objs as go\n",
    "from plotly.offline import init_notebook_mode, iplot\n",
    "\n",
    "init_notebook_mode(connected=True)"
   ]
  },
  {
   "cell_type": "code",
   "execution_count": 29,
   "metadata": {},
   "outputs": [],
   "source": [
    "with open('mapbox_token', 'r') as f:\n",
    "    token = f.read()"
   ]
  },
  {
   "cell_type": "code",
   "execution_count": 30,
   "metadata": {},
   "outputs": [],
   "source": [
    "import numpy"
   ]
  },
  {
   "cell_type": "code",
   "execution_count": 31,
   "metadata": {},
   "outputs": [],
   "source": [
    "lat = [39.984702,39.984019,40.004775]\n",
    "lon = [116.318417,116.298663,116.320158]\n",
    "time = ['02:53:04', '03:05:15', '09:42:25']"
   ]
  },
  {
   "cell_type": "code",
   "execution_count": 46,
   "metadata": {},
   "outputs": [],
   "source": [
    "data = [\n",
    "    go.Scattermapbox(\n",
    "        lat=lat,\n",
    "        lon=lon,\n",
    "        mode='markers',\n",
    "        marker=dict(\n",
    "            size=14\n",
    "        ),\n",
    "        text=time,\n",
    "    )\n",
    "]\n",
    "\n",
    "layout = go.Layout(\n",
    "    autosize=True,\n",
    "    hovermode='closest',\n",
    "    mapbox=dict(\n",
    "        accesstoken=token,\n",
    "        bearing=0,\n",
    "        center=dict(\n",
    "            lat=numpy.average(lat),\n",
    "            lon=numpy.average(lon),\n",
    "        ),\n",
    "        pitch=0,\n",
    "        zoom=12\n",
    "    ),\n",
    "    sliders=[]\n",
    ")\n",
    "\n",
    "fig = dict(data=data, layout=layout)"
   ]
  },
  {
   "cell_type": "code",
   "execution_count": 47,
   "metadata": {},
   "outputs": [
    {
     "data": {
      "application/vnd.plotly.v1+json": {
       "data": [
        {
         "lat": [
          39.984702,
          39.984019,
          40.004775
         ],
         "lon": [
          116.318417,
          116.298663,
          116.320158
         ],
         "marker": {
          "size": 14
         },
         "mode": "markers",
         "text": [
          "02:53:04",
          "03:05:15",
          "09:42:25"
         ],
         "type": "scattermapbox"
        }
       ],
       "layout": {
        "autosize": true,
        "hovermode": "closest",
        "mapbox": {
         "accesstoken": "pk.eyJ1IjoiaXRqZW4iLCJhIjoiY2podThxMml5MGE4bDN2bGh4ajNna213OSJ9.XZkm0VMevc3hrTnx9CODYQ",
         "bearing": 0,
         "center": {
          "lat": 39.991165333333335,
          "lon": 116.31241266666666
         },
         "pitch": 0,
         "zoom": 12
        },
        "sliders": []
       }
      },
      "text/html": [
       "<div id=\"e29188e5-5b31-43b0-843a-732c81a5c5e3\" style=\"height: 525px; width: 100%;\" class=\"plotly-graph-div\"></div><script type=\"text/javascript\">require([\"plotly\"], function(Plotly) { window.PLOTLYENV=window.PLOTLYENV || {};window.PLOTLYENV.BASE_URL=\"https://plot.ly\";Plotly.newPlot(\"e29188e5-5b31-43b0-843a-732c81a5c5e3\", [{\"type\": \"scattermapbox\", \"lat\": [39.984702, 39.984019, 40.004775], \"lon\": [116.318417, 116.298663, 116.320158], \"mode\": \"markers\", \"marker\": {\"size\": 14}, \"text\": [\"02:53:04\", \"03:05:15\", \"09:42:25\"]}], {\"autosize\": true, \"hovermode\": \"closest\", \"mapbox\": {\"accesstoken\": \"pk.eyJ1IjoiaXRqZW4iLCJhIjoiY2podThxMml5MGE4bDN2bGh4ajNna213OSJ9.XZkm0VMevc3hrTnx9CODYQ\", \"bearing\": 0, \"center\": {\"lat\": 39.991165333333335, \"lon\": 116.31241266666666}, \"pitch\": 0, \"zoom\": 12}, \"sliders\": []}, {\"showLink\": true, \"linkText\": \"Export to plot.ly\"})});</script>"
      ],
      "text/vnd.plotly.v1+html": [
       "<div id=\"e29188e5-5b31-43b0-843a-732c81a5c5e3\" style=\"height: 525px; width: 100%;\" class=\"plotly-graph-div\"></div><script type=\"text/javascript\">require([\"plotly\"], function(Plotly) { window.PLOTLYENV=window.PLOTLYENV || {};window.PLOTLYENV.BASE_URL=\"https://plot.ly\";Plotly.newPlot(\"e29188e5-5b31-43b0-843a-732c81a5c5e3\", [{\"type\": \"scattermapbox\", \"lat\": [39.984702, 39.984019, 40.004775], \"lon\": [116.318417, 116.298663, 116.320158], \"mode\": \"markers\", \"marker\": {\"size\": 14}, \"text\": [\"02:53:04\", \"03:05:15\", \"09:42:25\"]}], {\"autosize\": true, \"hovermode\": \"closest\", \"mapbox\": {\"accesstoken\": \"pk.eyJ1IjoiaXRqZW4iLCJhIjoiY2podThxMml5MGE4bDN2bGh4ajNna213OSJ9.XZkm0VMevc3hrTnx9CODYQ\", \"bearing\": 0, \"center\": {\"lat\": 39.991165333333335, \"lon\": 116.31241266666666}, \"pitch\": 0, \"zoom\": 12}, \"sliders\": []}, {\"showLink\": true, \"linkText\": \"Export to plot.ly\"})});</script>"
      ]
     },
     "metadata": {},
     "output_type": "display_data"
    }
   ],
   "source": [
    "iplot(fig)"
   ]
  },
  {
   "cell_type": "code",
   "execution_count": 33,
   "metadata": {},
   "outputs": [
    {
     "name": "stdout",
     "output_type": "stream",
     "text": [
      "Help on class Layout in module plotly.graph_objs.graph_objs:\n",
      "\n",
      "class Layout(PlotlyDict)\n",
      " |  Valid attributes for 'layout' at path [] under parents ():\n",
      " |  \n",
      " |      ['angularaxis', 'annotations', 'autosize', 'bargap', 'bargroupgap',\n",
      " |      'barmode', 'barnorm', 'boxgap', 'boxgroupgap', 'boxmode', 'calendar',\n",
      " |      'colorway', 'datarevision', 'direction', 'dragmode', 'font', 'geo',\n",
      " |      'grid', 'height', 'hiddenlabels', 'hiddenlabelssrc', 'hidesources',\n",
      " |      'hoverdistance', 'hoverlabel', 'hovermode', 'images', 'legend',\n",
      " |      'mapbox', 'margin', 'orientation', 'paper_bgcolor', 'plot_bgcolor',\n",
      " |      'polar', 'radialaxis', 'scene', 'selectdirection', 'separators',\n",
      " |      'shapes', 'showlegend', 'sliders', 'spikedistance', 'ternary', 'title',\n",
      " |      'titlefont', 'updatemenus', 'violingap', 'violingroupgap',\n",
      " |      'violinmode', 'width', 'xaxis', 'yaxis']\n",
      " |  \n",
      " |  Run `<layout-object>.help('attribute')` on any of the above.\n",
      " |  '<layout-object>' is the object at []\n",
      " |  \n",
      " |  Method resolution order:\n",
      " |      Layout\n",
      " |      PlotlyDict\n",
      " |      builtins.dict\n",
      " |      PlotlyBase\n",
      " |      builtins.object\n",
      " |  \n",
      " |  Methods inherited from PlotlyDict:\n",
      " |  \n",
      " |  __copy__(self)\n",
      " |  \n",
      " |  __deepcopy__(self, memodict={})\n",
      " |  \n",
      " |  __dir__(self)\n",
      " |      Dynamically return the existing and possible attributes.\n",
      " |  \n",
      " |  __getattr__(self, key)\n",
      " |      Python only calls this when key is missing!\n",
      " |  \n",
      " |  __getitem__(self, key)\n",
      " |      Calls __missing__ when key is not found. May mutate object.\n",
      " |  \n",
      " |  __init__(self, *args, **kwargs)\n",
      " |      Initialize self.  See help(type(self)) for accurate signature.\n",
      " |  \n",
      " |  __missing__(self, key)\n",
      " |      Mimics defaultdict. This is called from __getitem__ when key DNE.\n",
      " |  \n",
      " |  __setattr__(self, key, value)\n",
      " |      Maps __setattr__ onto __setitem__\n",
      " |  \n",
      " |  __setitem__(self, key, value, _raise=True)\n",
      " |      Validates/Converts values which should be Graph Objects.\n",
      " |  \n",
      " |  force_clean(self, **kwargs)\n",
      " |      Recursively remove empty/None values.\n",
      " |  \n",
      " |  get_data(self, flatten=False)\n",
      " |      Returns the JSON for the plot with non-data elements stripped.\n",
      " |  \n",
      " |  get_ordered(self, **kwargs)\n",
      " |      Return a predictable, OrderedDict version of self.\n",
      " |  \n",
      " |  help(self, attribute=None, return_help=False)\n",
      " |      Print help string for this object or an attribute of this object.\n",
      " |      \n",
      " |      :param (str) attribute: A valid attribute string for this object.\n",
      " |      :param (bool) return_help: Return help_string instead of printing it?\n",
      " |      :return: (None|str)\n",
      " |  \n",
      " |  strip_style(self)\n",
      " |      Recursively strip style from the current representation.\n",
      " |      \n",
      " |      All PlotlyDicts and PlotlyLists are guaranteed to survive the\n",
      " |      stripping process, though they made be left empty. This is allowable.\n",
      " |      \n",
      " |      Keys that will be stripped in this process are tagged with\n",
      " |      `'type': 'style'` in graph_objs_meta.json. Note that a key tagged as\n",
      " |      style, but with an array as a value may still be considered data.\n",
      " |  \n",
      " |  to_string(self, level=0, indent=4, eol='\\n', pretty=True, max_chars=80)\n",
      " |      Returns a formatted string showing graph_obj constructors.\n",
      " |      \n",
      " |      :param (int) level: The number of indentations to start with.\n",
      " |      :param (int) indent: The indentation amount.\n",
      " |      :param (str) eol: The end of line character(s).\n",
      " |      :param (bool) pretty: Curtail long list output with a '..' ?\n",
      " |      :param (int) max_chars: The max characters per line.\n",
      " |      \n",
      " |      Example:\n",
      " |      \n",
      " |          print(obj.to_string())\n",
      " |  \n",
      " |  update(self, dict1=None, **dict2)\n",
      " |      Update current dict with dict1 and then dict2.\n",
      " |      \n",
      " |      This recursively updates the structure of the original dictionary-like\n",
      " |      object with the new entries in the second and third objects. This\n",
      " |      allows users to update with large, nested structures.\n",
      " |      \n",
      " |      Note, because the dict2 packs up all the keyword arguments, you can\n",
      " |      specify the changes as a list of keyword arguments.\n",
      " |      \n",
      " |      Examples:\n",
      " |      # update with dict\n",
      " |      obj = Layout(title='my title', xaxis=XAxis(range=[0,1], domain=[0,1]))\n",
      " |      update_dict = dict(title='new title', xaxis=dict(domain=[0,.8]))\n",
      " |      obj.update(update_dict)\n",
      " |      obj\n",
      " |      {'title': 'new title', 'xaxis': {'range': [0,1], 'domain': [0,.8]}}\n",
      " |      \n",
      " |      # update with list of keyword arguments\n",
      " |      obj = Layout(title='my title', xaxis=XAxis(range=[0,1], domain=[0,1]))\n",
      " |      obj.update(title='new title', xaxis=dict(domain=[0,.8]))\n",
      " |      obj\n",
      " |      {'title': 'new title', 'xaxis': {'range': [0,1], 'domain': [0,.8]}}\n",
      " |      \n",
      " |      This 'fully' supports duck-typing in that the call signature is\n",
      " |      identical, however this differs slightly from the normal update\n",
      " |      method provided by Python's dictionaries.\n",
      " |  \n",
      " |  ----------------------------------------------------------------------\n",
      " |  Data descriptors inherited from PlotlyDict:\n",
      " |  \n",
      " |  __dict__\n",
      " |      dictionary for instance variables (if defined)\n",
      " |  \n",
      " |  __weakref__\n",
      " |      list of weak references to the object (if defined)\n",
      " |  \n",
      " |  ----------------------------------------------------------------------\n",
      " |  Methods inherited from builtins.dict:\n",
      " |  \n",
      " |  __contains__(self, key, /)\n",
      " |      True if D has a key k, else False.\n",
      " |  \n",
      " |  __delitem__(self, key, /)\n",
      " |      Delete self[key].\n",
      " |  \n",
      " |  __eq__(self, value, /)\n",
      " |      Return self==value.\n",
      " |  \n",
      " |  __ge__(self, value, /)\n",
      " |      Return self>=value.\n",
      " |  \n",
      " |  __getattribute__(self, name, /)\n",
      " |      Return getattr(self, name).\n",
      " |  \n",
      " |  __gt__(self, value, /)\n",
      " |      Return self>value.\n",
      " |  \n",
      " |  __iter__(self, /)\n",
      " |      Implement iter(self).\n",
      " |  \n",
      " |  __le__(self, value, /)\n",
      " |      Return self<=value.\n",
      " |  \n",
      " |  __len__(self, /)\n",
      " |      Return len(self).\n",
      " |  \n",
      " |  __lt__(self, value, /)\n",
      " |      Return self<value.\n",
      " |  \n",
      " |  __ne__(self, value, /)\n",
      " |      Return self!=value.\n",
      " |  \n",
      " |  __new__(*args, **kwargs) from builtins.type\n",
      " |      Create and return a new object.  See help(type) for accurate signature.\n",
      " |  \n",
      " |  __repr__(self, /)\n",
      " |      Return repr(self).\n",
      " |  \n",
      " |  __sizeof__(...)\n",
      " |      D.__sizeof__() -> size of D in memory, in bytes\n",
      " |  \n",
      " |  clear(...)\n",
      " |      D.clear() -> None.  Remove all items from D.\n",
      " |  \n",
      " |  copy(...)\n",
      " |      D.copy() -> a shallow copy of D\n",
      " |  \n",
      " |  fromkeys(iterable, value=None, /) from builtins.type\n",
      " |      Returns a new dict with keys from iterable and values equal to value.\n",
      " |  \n",
      " |  get(...)\n",
      " |      D.get(k[,d]) -> D[k] if k in D, else d.  d defaults to None.\n",
      " |  \n",
      " |  items(...)\n",
      " |      D.items() -> a set-like object providing a view on D's items\n",
      " |  \n",
      " |  keys(...)\n",
      " |      D.keys() -> a set-like object providing a view on D's keys\n",
      " |  \n",
      " |  pop(...)\n",
      " |      D.pop(k[,d]) -> v, remove specified key and return the corresponding value.\n",
      " |      If key is not found, d is returned if given, otherwise KeyError is raised\n",
      " |  \n",
      " |  popitem(...)\n",
      " |      D.popitem() -> (k, v), remove and return some (key, value) pair as a\n",
      " |      2-tuple; but raise KeyError if D is empty.\n",
      " |  \n",
      " |  setdefault(...)\n",
      " |      D.setdefault(k[,d]) -> D.get(k,d), also set D[k]=d if k not in D\n",
      " |  \n",
      " |  values(...)\n",
      " |      D.values() -> an object providing a view on D's values\n",
      " |  \n",
      " |  ----------------------------------------------------------------------\n",
      " |  Data and other attributes inherited from builtins.dict:\n",
      " |  \n",
      " |  __hash__ = None\n",
      " |  \n",
      " |  ----------------------------------------------------------------------\n",
      " |  Methods inherited from PlotlyBase:\n",
      " |  \n",
      " |  to_graph_objs(self, **kwargs)\n",
      " |      Everything is cast into graph_objs. Here for backwards compat.\n",
      " |  \n",
      " |  validate(self)\n",
      " |      Everything is *always* validated now. Keep for backwards compat.\n",
      "\n"
     ]
    }
   ],
   "source": [
    "help(go.Layout)"
   ]
  },
  {
   "cell_type": "code",
   "execution_count": 50,
   "metadata": {},
   "outputs": [
    {
     "data": {
      "application/vnd.plotly.v1+json": {
       "data": [
        {
         "lat": 39.984702,
         "lon": 116.318417,
         "marker": {
          "size": 16
         },
         "mode": "markers",
         "text": "02:53:04",
         "type": "scattermapbox"
        }
       ],
       "frames": [
        {
         "data": [
          {
           "lat": [
            39.984702
           ],
           "lon": [
            116.318417
           ],
           "marker": {
            "size": 16
           },
           "mode": "markers",
           "text": "02:53:04",
           "type": "scattermapbox"
          }
         ],
         "name": "02:53:04"
        },
        {
         "data": [
          {
           "lat": [
            39.984019
           ],
           "lon": [
            116.298663
           ],
           "marker": {
            "size": 16
           },
           "mode": "markers",
           "text": "03:05:15",
           "type": "scattermapbox"
          }
         ],
         "name": "03:05:15"
        },
        {
         "data": [
          {
           "lat": [
            40.004775
           ],
           "lon": [
            116.320158
           ],
           "marker": {
            "size": 16
           },
           "mode": "markers",
           "text": "09:42:25",
           "type": "scattermapbox"
          }
         ],
         "name": "09:42:25"
        }
       ],
       "layout": {
        "autosize": true,
        "hovermode": "closest",
        "mapbox": {
         "accesstoken": "pk.eyJ1IjoiaXRqZW4iLCJhIjoiY2podThxMml5MGE4bDN2bGh4ajNna213OSJ9.XZkm0VMevc3hrTnx9CODYQ",
         "bearing": 0,
         "center": {
          "lat": 39.991165333333335,
          "lon": 116.31241266666666
         },
         "pitch": 0,
         "zoom": 12
        },
        "sliders": [
         {
          "steps": [
           {
            "args": [
             [
              "02:53:04"
             ],
             {
              "frame": {
               "duration": 300,
               "redraw": false
              },
              "mode": "immediate",
              "transition": {
               "duration": 300
              }
             }
            ],
            "method": "animate"
           },
           {
            "args": [
             [
              "03:05:15"
             ],
             {
              "frame": {
               "duration": 300,
               "redraw": false
              },
              "mode": "immediate",
              "transition": {
               "duration": 300
              }
             }
            ],
            "method": "animate"
           },
           {
            "args": [
             [
              "09:42:25"
             ],
             {
              "frame": {
               "duration": 300,
               "redraw": false
              },
              "mode": "immediate",
              "transition": {
               "duration": 300
              }
             }
            ],
            "method": "animate"
           }
          ]
         }
        ]
       }
      },
      "text/html": [
       "<div id=\"4442a8e3-11de-476a-ab8d-1d6878c414d1\" style=\"height: 525px; width: 100%;\" class=\"plotly-graph-div\"></div><script type=\"text/javascript\">require([\"plotly\"], function(Plotly) { window.PLOTLYENV=window.PLOTLYENV || {};window.PLOTLYENV.BASE_URL=\"https://plot.ly\";\n",
       "        Plotly.plot(\n",
       "            '4442a8e3-11de-476a-ab8d-1d6878c414d1',\n",
       "            [{\"type\": \"scattermapbox\", \"lat\": 39.984702, \"lon\": 116.318417, \"mode\": \"markers\", \"marker\": {\"size\": 16}, \"text\": \"02:53:04\"}],\n",
       "            {\"autosize\": true, \"hovermode\": \"closest\", \"mapbox\": {\"accesstoken\": \"pk.eyJ1IjoiaXRqZW4iLCJhIjoiY2podThxMml5MGE4bDN2bGh4ajNna213OSJ9.XZkm0VMevc3hrTnx9CODYQ\", \"bearing\": 0, \"center\": {\"lat\": 39.991165333333335, \"lon\": 116.31241266666666}, \"pitch\": 0, \"zoom\": 12}, \"sliders\": [{\"steps\": [{\"args\": [[\"02:53:04\"], {\"frame\": {\"duration\": 300, \"redraw\": false}, \"mode\": \"immediate\", \"transition\": {\"duration\": 300}}], \"method\": \"animate\"}, {\"args\": [[\"03:05:15\"], {\"frame\": {\"duration\": 300, \"redraw\": false}, \"mode\": \"immediate\", \"transition\": {\"duration\": 300}}], \"method\": \"animate\"}, {\"args\": [[\"09:42:25\"], {\"frame\": {\"duration\": 300, \"redraw\": false}, \"mode\": \"immediate\", \"transition\": {\"duration\": 300}}], \"method\": \"animate\"}]}]},\n",
       "            {\"showLink\": true, \"linkText\": \"Export to plot.ly\"}\n",
       "        ).then(function () {return Plotly.addFrames('4442a8e3-11de-476a-ab8d-1d6878c414d1',[{\"data\": [{\"type\": \"scattermapbox\", \"lat\": [39.984702], \"lon\": [116.318417], \"mode\": \"markers\", \"marker\": {\"size\": 16}, \"text\": \"02:53:04\"}], \"name\": \"02:53:04\"}, {\"data\": [{\"type\": \"scattermapbox\", \"lat\": [39.984019], \"lon\": [116.298663], \"mode\": \"markers\", \"marker\": {\"size\": 16}, \"text\": \"03:05:15\"}], \"name\": \"03:05:15\"}, {\"data\": [{\"type\": \"scattermapbox\", \"lat\": [40.004775], \"lon\": [116.320158], \"mode\": \"markers\", \"marker\": {\"size\": 16}, \"text\": \"09:42:25\"}], \"name\": \"09:42:25\"}]);}).then(function(){Plotly.animate('4442a8e3-11de-476a-ab8d-1d6878c414d1');})\n",
       "        });</script>"
      ],
      "text/vnd.plotly.v1+html": [
       "<div id=\"4442a8e3-11de-476a-ab8d-1d6878c414d1\" style=\"height: 525px; width: 100%;\" class=\"plotly-graph-div\"></div><script type=\"text/javascript\">require([\"plotly\"], function(Plotly) { window.PLOTLYENV=window.PLOTLYENV || {};window.PLOTLYENV.BASE_URL=\"https://plot.ly\";\n",
       "        Plotly.plot(\n",
       "            '4442a8e3-11de-476a-ab8d-1d6878c414d1',\n",
       "            [{\"type\": \"scattermapbox\", \"lat\": 39.984702, \"lon\": 116.318417, \"mode\": \"markers\", \"marker\": {\"size\": 16}, \"text\": \"02:53:04\"}],\n",
       "            {\"autosize\": true, \"hovermode\": \"closest\", \"mapbox\": {\"accesstoken\": \"pk.eyJ1IjoiaXRqZW4iLCJhIjoiY2podThxMml5MGE4bDN2bGh4ajNna213OSJ9.XZkm0VMevc3hrTnx9CODYQ\", \"bearing\": 0, \"center\": {\"lat\": 39.991165333333335, \"lon\": 116.31241266666666}, \"pitch\": 0, \"zoom\": 12}, \"sliders\": [{\"steps\": [{\"args\": [[\"02:53:04\"], {\"frame\": {\"duration\": 300, \"redraw\": false}, \"mode\": \"immediate\", \"transition\": {\"duration\": 300}}], \"method\": \"animate\"}, {\"args\": [[\"03:05:15\"], {\"frame\": {\"duration\": 300, \"redraw\": false}, \"mode\": \"immediate\", \"transition\": {\"duration\": 300}}], \"method\": \"animate\"}, {\"args\": [[\"09:42:25\"], {\"frame\": {\"duration\": 300, \"redraw\": false}, \"mode\": \"immediate\", \"transition\": {\"duration\": 300}}], \"method\": \"animate\"}]}]},\n",
       "            {\"showLink\": true, \"linkText\": \"Export to plot.ly\"}\n",
       "        ).then(function () {return Plotly.addFrames('4442a8e3-11de-476a-ab8d-1d6878c414d1',[{\"data\": [{\"type\": \"scattermapbox\", \"lat\": [39.984702], \"lon\": [116.318417], \"mode\": \"markers\", \"marker\": {\"size\": 16}, \"text\": \"02:53:04\"}], \"name\": \"02:53:04\"}, {\"data\": [{\"type\": \"scattermapbox\", \"lat\": [39.984019], \"lon\": [116.298663], \"mode\": \"markers\", \"marker\": {\"size\": 16}, \"text\": \"03:05:15\"}], \"name\": \"03:05:15\"}, {\"data\": [{\"type\": \"scattermapbox\", \"lat\": [40.004775], \"lon\": [116.320158], \"mode\": \"markers\", \"marker\": {\"size\": 16}, \"text\": \"09:42:25\"}], \"name\": \"09:42:25\"}]);}).then(function(){Plotly.animate('4442a8e3-11de-476a-ab8d-1d6878c414d1');})\n",
       "        });</script>"
      ]
     },
     "metadata": {},
     "output_type": "display_data"
    }
   ],
   "source": [
    "frames = []\n",
    "steps = []\n",
    "initial_data = [\n",
    "    go.Scattermapbox(\n",
    "        lat = lat[0],\n",
    "        lon = lon[0],\n",
    "        mode = 'markers',\n",
    "        marker = {'size': 16},\n",
    "        text = time[0]\n",
    "    )\n",
    "]\n",
    "for i in range(3):\n",
    "    data = [\n",
    "        go.Scattermapbox(\n",
    "            lat = [lat[i]],\n",
    "            lon = [lon[i]],\n",
    "            mode = 'markers',\n",
    "            marker = {'size': 16},\n",
    "            text = time[i]\n",
    "        )\n",
    "    ]\n",
    "    frames.append({'data': data, 'name': time[i]})\n",
    "    steps.append({\n",
    "        'args': [\n",
    "            [time[i]],\n",
    "            {'frame': {'duration': 300, 'redraw': False},\n",
    "             'mode': 'immediate',\n",
    "             'transition': {'duration': 300}}\n",
    "        ],\n",
    "        'method': 'animate'})\n",
    "    \n",
    "layout['sliders'] = [{'steps': steps}]\n",
    "figure = {'data': initial_data,\n",
    "          'layout': layout,\n",
    "          'frames': frames\n",
    "         }\n",
    "\n",
    "iplot(figure)"
   ]
  }
 ],
 "metadata": {
  "kernelspec": {
   "display_name": "Python 3",
   "language": "python",
   "name": "python3"
  },
  "language_info": {
   "codemirror_mode": {
    "name": "ipython",
    "version": 3
   },
   "file_extension": ".py",
   "mimetype": "text/x-python",
   "name": "python",
   "nbconvert_exporter": "python",
   "pygments_lexer": "ipython3",
   "version": "3.6.5"
  }
 },
 "nbformat": 4,
 "nbformat_minor": 2
}
