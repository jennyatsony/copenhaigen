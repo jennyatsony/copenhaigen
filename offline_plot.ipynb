{
 "cells": [
  {
   "cell_type": "markdown",
   "metadata": {},
   "source": [
    "#### Read mapbox token required to fetch map"
   ]
  },
  {
   "cell_type": "code",
   "execution_count": null,
   "metadata": {},
   "outputs": [],
   "source": [
    "with open('mapbox_token', 'r') as f:\n",
    "    token = f.read()"
   ]
  },
  {
   "cell_type": "markdown",
   "metadata": {},
   "source": [
    "#### Get data"
   ]
  },
  {
   "cell_type": "code",
   "execution_count": null,
   "metadata": {},
   "outputs": [],
   "source": [
    "import pandas, numpy\n",
    "\n",
    "test_data = pandas.read_csv('testdata.csv')\n",
    "\n",
    "plot_data = {\n",
    "    'lat': test_data.lat[:200],\n",
    "    'lon': test_data.lon[:200],\n",
    "    'time': test_data.time[:200]\n",
    "}\n",
    "\n",
    "poi = {\n",
    "    'lat': numpy.average(plot_data['lat']),\n",
    "    'lon': numpy.average(plot_data['lon'])\n",
    "}"
   ]
  },
  {
   "cell_type": "markdown",
   "metadata": {},
   "source": [
    "#### The plot function"
   ]
  },
  {
   "cell_type": "code",
   "execution_count": null,
   "metadata": {},
   "outputs": [],
   "source": [
    "import plotly.graph_objs as go\n",
    "\n",
    "def animate_movement(plot_data, poi, zoom_level):\n",
    "    \"\"\"plot_data is a dictionary with keys latitude, longitude,\n",
    "    and timestamp. Each is a list of the same length.\n",
    "    poi is the coordinate of the center of the map. dict with keys lat and lon.\n",
    "    zoom_level should be between 1 - 15.\n",
    "    returns figure\n",
    "    \"\"\"\n",
    "    # create initial data\n",
    "    initial_data = go.Scattermapbox(\n",
    "        lat = plot_data['lat'][0],\n",
    "        lon = plot_data['lon'][0],\n",
    "        mode = 'markers',\n",
    "        marker = {'size': 4},\n",
    "        text = [plot_data['time'][0]],\n",
    "    )\n",
    "    # create layout\n",
    "    layout = go.Layout(\n",
    "        autosize = True,\n",
    "        hovermode = 'closest',\n",
    "        mapbox = {\n",
    "            'accesstoken': token,\n",
    "            'bearing': 0,\n",
    "            'center': poi,\n",
    "            'pitch': 0,\n",
    "            'zoom': zoom_level\n",
    "        },\n",
    "        sliders = []\n",
    "    )\n",
    "    # generate frames and steps in sliders\n",
    "    frames = []\n",
    "    steps = []\n",
    "    for i in range(len(plot_data['time'])):\n",
    "        data = go.Scattermapbox(\n",
    "            lat = plot_data['lat'][:i],\n",
    "            lon = plot_data['lon'][:i],\n",
    "            mode = 'markers',\n",
    "            marker = {'size': 4},\n",
    "            # hover mode seem not to work in the notebook\n",
    "            text = plot_data['time'][:i]\n",
    "        )\n",
    "        frames.append({'data': [data], 'name': plot_data['time'][i]})\n",
    "        steps.append({\n",
    "            'args': [\n",
    "                [plot_data['time'][i]],\n",
    "                {'frame': {'duration': 200, 'redraw': False},\n",
    "                 'mode': 'immediate',\n",
    "                 'transition': {'duration': 200}}\n",
    "            ],\n",
    "            'method': 'animate'}\n",
    "        )\n",
    "    # put together the figure\n",
    "    layout['sliders'] = [{'steps': steps}]\n",
    "    figure = {\n",
    "        'data': [initial_data],\n",
    "        'layout': layout,\n",
    "        'frames': frames\n",
    "    }\n",
    "    return figure"
   ]
  },
  {
   "cell_type": "markdown",
   "metadata": {},
   "source": [
    "#### Plotting"
   ]
  },
  {
   "cell_type": "code",
   "execution_count": null,
   "metadata": {},
   "outputs": [],
   "source": [
    "from plotly.offline import init_notebook_mode, iplot    \n",
    "\n",
    "init_notebook_mode(connected=True)\n",
    "figure = animate_movement(plot_data, poi, 12)\n",
    "iplot(figure)"
   ]
  }
 ],
 "metadata": {
  "kernelspec": {
   "display_name": "Python 3",
   "language": "python",
   "name": "python3"
  },
  "language_info": {
   "codemirror_mode": {
    "name": "ipython",
    "version": 3
   },
   "file_extension": ".py",
   "mimetype": "text/x-python",
   "name": "python",
   "nbconvert_exporter": "python",
   "pygments_lexer": "ipython3",
   "version": "3.6.5"
  }
 },
 "nbformat": 4,
 "nbformat_minor": 2
}
